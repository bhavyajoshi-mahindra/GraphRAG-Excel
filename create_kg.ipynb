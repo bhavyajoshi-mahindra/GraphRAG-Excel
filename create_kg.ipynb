{
 "cells": [
  {
   "cell_type": "markdown",
   "id": "2e24691a",
   "metadata": {},
   "source": [
    "## Load the required csv "
   ]
  },
  {
   "cell_type": "code",
   "execution_count": 3,
   "id": "f7f638c1",
   "metadata": {},
   "outputs": [],
   "source": [
    "import pandas as pd\n",
    "\n",
    "inventories_fy23_path = \"inventories_full_fy23.csv\"\n",
    "inventories_fy24_path = \"inventories_full_fy24.csv\"\n",
    "\n",
    "inventories_fy23 = pd.read_csv(inventories_fy23_path)\n",
    "inventories_fy24 = pd.read_csv(inventories_fy24_path)"
   ]
  },
  {
   "cell_type": "code",
   "execution_count": 4,
   "id": "1a1cd246",
   "metadata": {},
   "outputs": [],
   "source": [
    "# inventories_fy23.head()"
   ]
  },
  {
   "cell_type": "code",
   "execution_count": 5,
   "id": "32c9e1ab",
   "metadata": {},
   "outputs": [],
   "source": [
    "# inventories_fy24.head()"
   ]
  },
  {
   "cell_type": "markdown",
   "id": "dd362497",
   "metadata": {},
   "source": [
    "## Connecting to our local neo4j graph"
   ]
  },
  {
   "cell_type": "code",
   "execution_count": null,
   "id": "2109e19f",
   "metadata": {},
   "outputs": [
    {
     "name": "stdout",
     "output_type": "stream",
     "text": [
      "Neo4j connection successful!\n"
     ]
    }
   ],
   "source": [
    "from neo4j import GraphDatabase\n",
    "from dotenv import load_dotenv\n",
    "import os\n",
    "\n",
    "# Load environment variables from .env file\n",
    "load_dotenv()\n",
    "\n",
    "# Retrieve environment variables\n",
    "NEO4J_URI = os.getenv(\"NEO4J_URI\")\n",
    "NEO4J_USER = os.getenv(\"NEO4J_USER\")\n",
    "NEO4J_PASSWORD = os.getenv(\"NEO4J_PASSWORD\")\n",
    "\n",
    "# Create the Neo4j driver\n",
    "driver = GraphDatabase.driver(NEO4J_URI, auth=(NEO4J_USER, NEO4J_PASSWORD))\n",
    "\n",
    "# Test the connection\n",
    "try:\n",
    "    with driver.session() as session:\n",
    "        result = session.run(\"RETURN 1\")\n",
    "        if result.single()[0] == 1:\n",
    "            print(\"Neo4j connection successful!\")\n",
    "        else:\n",
    "            print(\"Neo4j connection failed!\")\n",
    "except Exception as e:\n",
    "    print(f\"Neo4j connection error: {e}\")\n",
    "finally:\n",
    "    driver.close()\n"
   ]
  },
  {
   "cell_type": "code",
   "execution_count": 7,
   "id": "d46cf2b3",
   "metadata": {},
   "outputs": [],
   "source": [
    "# from neo4j import GraphDatabase\n",
    "\n",
    "# # URI examples: \"neo4j://localhost\", \"neo4j+s://xxx.databases.neo4j.io\"\n",
    "# URI = \"neo4j+s://669a1604.databases.neo4j.io\"\n",
    "# AUTH = (\"neo4j\", \"aVhj0fbW8GaSkgk8aFjh3i2QmhIUWKnfnt2yCvJu-yk\")\n",
    "\n",
    "# with GraphDatabase.driver(URI, auth=AUTH) as driver:\n",
    "#     driver.verify_connectivity()\n",
    "# driver.close()"
   ]
  },
  {
   "cell_type": "markdown",
   "id": "6913ebd1",
   "metadata": {},
   "source": [
    "## Adding Nodes and Relationships to our Neo4j KG"
   ]
  },
  {
   "cell_type": "code",
   "execution_count": 8,
   "id": "f38cd28e",
   "metadata": {},
   "outputs": [],
   "source": [
    "def add_hierarchy_relationships_outline(driver, df):\n",
    "    current_L1 = current_L2 = current_L3 = None\n",
    "\n",
    "    with driver.session() as session:\n",
    "        for idx, row in df.iterrows():\n",
    "            l1 = str(row['L1']).strip() if pd.notna(row['L1']) and row['L1'] else None\n",
    "            l2 = str(row['L2']).strip() if pd.notna(row['L2']) and row['L2'] else None\n",
    "            l3 = str(row['L3']).strip() if pd.notna(row['L3']) and row['L3'] else None\n",
    "            l4 = str(row['L4']).strip() if pd.notna(row['L4']) and row['L4'] else None\n",
    "\n",
    "            if l1:\n",
    "                current_L1 = l1\n",
    "                current_L2 = current_L3 = None  # Reset lower levels\n",
    "                print(f\"Found L1: {l1}\")\n",
    "            elif l2:\n",
    "                current_L2 = l2\n",
    "                current_L3 = None\n",
    "                # L1 must exist\n",
    "                session.run(\"\"\"\n",
    "                    MERGE (a:InventoryLevel1 {name: $l1})\n",
    "                    MERGE (b:InventoryLevel2 {name: $l2})\n",
    "                    MERGE (a)-[:HAS_SUB_INVENTORY]->(b)\n",
    "                \"\"\", l1=current_L1, l2=current_L2)\n",
    "                print(f\"Linked L1: {current_L1} -> L2: {current_L2}\")\n",
    "            elif l3:\n",
    "                current_L3 = l3\n",
    "                # L2 must exist\n",
    "                session.run(\"\"\"\n",
    "                    MERGE (a:InventoryLevel2 {name: $l2})\n",
    "                    MERGE (b:InventoryLevel3 {name: $l3})\n",
    "                    MERGE (a)-[:HAS_SUB_INVENTORY]->(b)\n",
    "                \"\"\", l2=current_L2, l3=current_L3)\n",
    "                print(f\"Linked L2: {current_L2} -> L3: {current_L3}\")\n",
    "            elif l4:\n",
    "                # Prefer linking to L3, else L2, else L1\n",
    "                if current_L3:\n",
    "                    session.run(\"\"\"\n",
    "                        MERGE (a:InventoryLevel3 {name: $l3})\n",
    "                        MERGE (b:InventoryLevel4 {name: $l4})\n",
    "                        MERGE (a)-[:HAS_SUB_INVENTORY]->(b)\n",
    "                    \"\"\", l3=current_L3, l4=l4)\n",
    "                    print(f\"Linked L3: {current_L3} -> L4: {l4}\")\n",
    "                elif current_L2:\n",
    "                    session.run(\"\"\"\n",
    "                        MERGE (a:InventoryLevel2 {name: $l2})\n",
    "                        MERGE (b:InventoryLevel4 {name: $l4})\n",
    "                        MERGE (a)-[:HAS_SUB_INVENTORY]->(b)\n",
    "                    \"\"\", l2=current_L2, l4=l4)\n",
    "                    print(f\"Linked L2: {current_L2} -> L4: {l4}\")\n",
    "                elif current_L1:\n",
    "                    session.run(\"\"\"\n",
    "                        MERGE (a:InventoryLevel1 {name: $l1})\n",
    "                        MERGE (b:InventoryLevel4 {name: $l4})\n",
    "                        MERGE (a)-[:HAS_SUB_INVENTORY]->(b)\n",
    "                    \"\"\", l1=current_L1, l4=l4)\n",
    "                    print(f\"Linked L1: {current_L1} -> L4: {l4}\")\n",
    "\n",
    "\n"
   ]
  },
  {
   "cell_type": "code",
   "execution_count": 9,
   "id": "f874ece3",
   "metadata": {},
   "outputs": [
    {
     "name": "stdout",
     "output_type": "stream",
     "text": [
      "Found L1: Inventories\n"
     ]
    },
    {
     "name": "stderr",
     "output_type": "stream",
     "text": [
      "C:\\Users\\emerg\\AppData\\Local\\Temp\\ipykernel_2656\\1591674299.py:4: DeprecationWarning: Using a driver after it has been closed is deprecated. Future versions of the driver will raise an error.\n",
      "  with driver.session() as session:\n"
     ]
    },
    {
     "name": "stdout",
     "output_type": "stream",
     "text": [
      "Linked L1: Inventories -> L2: Raw Material & Mfg. Componets\n",
      "Linked L2: Raw Material & Mfg. Componets -> L3: Raw Material & Mfg. Componet\n",
      "Linked L3: Raw Material & Mfg. Componet -> L4: Closing Stock- Gunny Bags\n",
      "Linked L3: Raw Material & Mfg. Componet -> L4: Clg Stock - Raw Material-B/s\n",
      "Linked L3: Raw Material & Mfg. Componet -> L4: Clg Stock - Mfg Component B/s\n",
      "Linked L2: Raw Material & Mfg. Componets -> L3: Stock In Transit - Raw Material\n",
      "Linked L3: Stock In Transit - Raw Material -> L4: Clg Stock In Transit - Rm - B/s\n",
      "Linked L1: Inventories -> L2: Work-in-Progress\n",
      "Linked L2: Work-in-Progress -> L4: WIP- Seed Potato Facility A/c\n",
      "Linked L2: Work-in-Progress -> L4: Construction Work In Progress\n",
      "Linked L2: Work-in-Progress -> L4: Clg Stock - Wip - B/s\n",
      "Linked L2: Work-in-Progress -> L4: Clg Stock - Construction W I P - B/s\n",
      "Linked L1: Inventories -> L2: Finished Goods\n",
      "Linked L2: Finished Goods -> L3: Stock In Transit - Finised Goods\n",
      "Linked L3: Stock In Transit - Finised Goods -> L4: Clg Stock In Transit - FG B/s\n",
      "Linked L2: Finished Goods -> L3: Finished Goods\n",
      "Linked L3: Finished Goods -> L4: Clg Stock - Finished Goods - B/s\n",
      "Linked L1: Inventories -> L2: Stock in Trade\n",
      "Linked L2: Stock in Trade -> L3: Stock in Trade\n",
      "Linked L3: Stock in Trade -> L4: Stock in trade\n",
      "Linked L2: Stock in Trade -> L3: Stock In Transit - Traded Goods.............\n",
      "Linked L3: Stock In Transit - Traded Goods............. -> L4: Stock in transit - Traded goods\n",
      "Linked L1: Inventories -> L2: Stores and Spares\n",
      "Linked L2: Stores and Spares -> L4: Inventory Oils, Grease & Chemicals\n",
      "Linked L2: Stores and Spares -> L4: Inventorie Consumable Stores & Misc.\n",
      "Linked L2: Stores and Spares -> L4: G-Stock Materiali Ricoperti CBN\n",
      "Linked L2: Stores and Spares -> L4: Stock in transit - Stores & Spares\n",
      "Linked L2: Stores and Spares -> L4: Inventory Stores- Manual Adj\n",
      "Linked L2: Stores and Spares -> L4: Inventory Packing Material\n",
      "Linked L1: Inventories -> L2: Inventory Machinery Spares\n",
      "Linked L2: Inventory Machinery Spares -> L4: Inventory Spares\n",
      "Linked L2: Inventory Machinery Spares -> L4: Inventory Machinery Spares-Imported\n",
      "Linked L2: Inventory Machinery Spares -> L4: Inventory Spares- Manual Adj\n",
      "Linked L2: Inventory Machinery Spares -> L4: In Transit - Stores & Spares\n",
      "Linked L1: Inventories -> L2: Tools\n",
      "Linked L2: Tools -> L4: Inventory Tools\n",
      "Linked L2: Tools -> L4: Inventory Manufactured Tools\n",
      "Linked L2: Tools -> L4: Inventory Tools- Manual Adj\n",
      "Linked L2: Tools -> L4: Stock in transit - Tools\n",
      "Linked L2: Tools -> L4: Inventory Dies\n",
      "Linked L1: Inventories -> L2: Other Inventory\n",
      "Linked L2: Other Inventory -> L4: Food & Beverages\n",
      "Linked L2: Other Inventory -> L4: Ind-AS  Inventories\n",
      "Linked L2: Other Inventory -> L4: Plant & Machinery Held For Sale\n",
      "Found L1: Inventories\n",
      "Linked L1: Inventories -> L2: Raw Material & Mfg. Componets\n",
      "Linked L2: Raw Material & Mfg. Componets -> L3: Raw Material & Mfg. Componet\n",
      "Linked L3: Raw Material & Mfg. Componet -> L4: Closing Stock- Gunny Bags\n",
      "Linked L3: Raw Material & Mfg. Componet -> L4: Clg Stock - Raw Material-B/s\n",
      "Linked L3: Raw Material & Mfg. Componet -> L4: Clg Stock - Mfg Component B/s\n",
      "Linked L2: Raw Material & Mfg. Componets -> L3: Stock In Transit - Raw Material\n",
      "Linked L3: Stock In Transit - Raw Material -> L4: Clg Stock In Transit - Rm - B/s\n",
      "Linked L1: Inventories -> L2: Work-in-Progress\n",
      "Linked L2: Work-in-Progress -> L4: WIP- Seed Potato Facility A/c\n",
      "Linked L2: Work-in-Progress -> L4: Construction Work In Progress\n",
      "Linked L2: Work-in-Progress -> L4: Clg Stock - Wip - B/s\n",
      "Linked L2: Work-in-Progress -> L4: Clg Stock - Construction W I P - B/s\n",
      "Linked L1: Inventories -> L2: Finished Goods\n",
      "Linked L2: Finished Goods -> L3: Stock In Transit - Finised Goods\n",
      "Linked L3: Stock In Transit - Finised Goods -> L4: Clg Stock In Transit - FG B/s\n",
      "Linked L2: Finished Goods -> L3: Finished Goods\n",
      "Linked L3: Finished Goods -> L4: Clg Stock - Finished Goods - B/s\n",
      "Linked L1: Inventories -> L2: Stock in Trade\n",
      "Linked L2: Stock in Trade -> L3: Stock in Trade\n",
      "Linked L3: Stock in Trade -> L4: Stock in trade\n",
      "Linked L2: Stock in Trade -> L3: Stock In Transit - Traded Goods.............\n",
      "Linked L3: Stock In Transit - Traded Goods............. -> L4: Stock in transit - Traded goods\n",
      "Linked L1: Inventories -> L2: Stores and Spares\n",
      "Linked L2: Stores and Spares -> L4: Inventory Oils, Grease & Chemicals\n",
      "Linked L2: Stores and Spares -> L4: Inventorie Consumable Stores & Misc.\n",
      "Linked L2: Stores and Spares -> L4: G-Stock Materiali Ricoperti CBN\n",
      "Linked L2: Stores and Spares -> L4: Stock in transit - Stores & Spares\n",
      "Linked L2: Stores and Spares -> L4: Inventory Stores- Manual Adj\n",
      "Linked L2: Stores and Spares -> L4: Inventory Packing Material\n",
      "Linked L1: Inventories -> L2: Inventory Machinery Spares\n",
      "Linked L2: Inventory Machinery Spares -> L4: Inventory Spares\n",
      "Linked L2: Inventory Machinery Spares -> L4: Inventory Machinery Spares-Imported\n",
      "Linked L2: Inventory Machinery Spares -> L4: Inventory Spares- Manual Adj\n",
      "Linked L2: Inventory Machinery Spares -> L4: In Transit - Stores & Spares\n",
      "Linked L1: Inventories -> L2: Tools\n",
      "Linked L2: Tools -> L4: Inventory Tools\n",
      "Linked L2: Tools -> L4: Inventory Manufactured Tools\n",
      "Linked L2: Tools -> L4: Inventory Tools- Manual Adj\n",
      "Linked L2: Tools -> L4: Stock in transit - Tools\n",
      "Linked L2: Tools -> L4: Inventory Dies\n",
      "Linked L1: Inventories -> L2: Other Inventory\n",
      "Linked L2: Other Inventory -> L4: Food & Beverages\n",
      "Linked L2: Other Inventory -> L4: Ind-AS  Inventories\n",
      "Linked L2: Other Inventory -> L4: Plant & Machinery Held For Sale\n"
     ]
    }
   ],
   "source": [
    "# Example usage:\n",
    "add_hierarchy_relationships_outline(driver, inventories_fy23)\n",
    "add_hierarchy_relationships_outline(driver, inventories_fy24)"
   ]
  },
  {
   "cell_type": "code",
   "execution_count": 10,
   "id": "bfb2c448",
   "metadata": {},
   "outputs": [],
   "source": [
    "def link_groupcompany_to_inventory_outline(df, year, driver):\n",
    "    group_cols = [col for col in df.columns if col not in ['L1', 'L2', 'L3', 'L4']]\n",
    "    with driver.session() as session:\n",
    "        for idx, row in df.iterrows():\n",
    "            l4 = str(row['L4']).strip() if pd.notna(row['L4']) and row['L4'] else None\n",
    "            if not l4:\n",
    "                continue\n",
    "            for company in group_cols:\n",
    "                val = row[company]\n",
    "                amount_str = str(val).strip()\n",
    "                \n",
    "                if amount_str in [\"-\", \"--\", \"–\", \"\"]:\n",
    "                    amount = 0.0\n",
    "                    # print('REPLACED -> Original: {}, replaced by: {}'.format(val, amount))\n",
    "                else:\n",
    "                    try:\n",
    "                        amount = float(amount_str)\n",
    "                        # print('TRY -> Original: {}, replaced by: {}'.format(val, amount))\n",
    "                    except Exception:\n",
    "                        amount = 0.0\n",
    "                        # print('EXCEPT -> Original: {}, replaced by: {}'.format(val, amount))\n",
    "\n",
    "                if amount == 0.0:\n",
    "                    continue  # Only link if amount is nonzero!\n",
    "\n",
    "                session.run(\"\"\"\n",
    "                    MERGE (c:GroupCompany {name: $company})\n",
    "                    MERGE (inv:InventoryLevel4 {name: $l4})\n",
    "                    MERGE (c)-[r:HAS_AMOUNT {year: $year}]->(inv)\n",
    "                    SET r.amount = $amount\n",
    "                \"\"\", company=company, l4=l4, year=year, amount=amount)\n",
    "                print(f\"Linked {company} to {l4} for {year}: {amount}\")\n",
    "\n",
    "\n"
   ]
  },
  {
   "cell_type": "code",
   "execution_count": 1,
   "id": "0784549b",
   "metadata": {},
   "outputs": [],
   "source": [
    "# Example usage:\n",
    "# link_groupcompany_to_inventory_outline(inventories_fy23, \"FY23\", driver)\n",
    "# link_groupcompany_to_inventory_outline(inventories_fy24, \"FY24\", driver)"
   ]
  },
  {
   "cell_type": "code",
   "execution_count": 12,
   "id": "344eeb96",
   "metadata": {},
   "outputs": [],
   "source": [
    "def add_inventorylevel2_and_level3_nodes_outline(driver, df):\n",
    "    unique_l2 = set()\n",
    "    unique_l3 = set()\n",
    "    # Gather unique, non-empty L2/L3 values (ignore blanks/None)\n",
    "    for val in df['L2']:\n",
    "        if pd.notna(val) and str(val).strip():\n",
    "            unique_l2.add(str(val).strip())\n",
    "    for val in df['L3']:\n",
    "        if pd.notna(val) and str(val).strip():\n",
    "            unique_l3.add(str(val).strip())\n",
    "\n",
    "    with driver.session() as session:\n",
    "        for l2 in unique_l2:\n",
    "            session.run(\"MERGE (:InventoryLevel2 {name: $name})\", name=l2)\n",
    "            print(f\"Added InventoryLevel2: {l2}\")\n",
    "        for l3 in unique_l3:\n",
    "            session.run(\"MERGE (:InventoryLevel3 {name: $name})\", name=l3)\n",
    "            print(f\"Added InventoryLevel3: {l3}\")\n",
    "\n",
    "\n"
   ]
  },
  {
   "cell_type": "code",
   "execution_count": 13,
   "id": "3d229767",
   "metadata": {},
   "outputs": [
    {
     "name": "stdout",
     "output_type": "stream",
     "text": [
      "Added InventoryLevel2: Stores and Spares\n",
      "Added InventoryLevel2: Stock in Trade\n",
      "Added InventoryLevel2: Inventory Machinery Spares\n",
      "Added InventoryLevel2: Finished Goods\n",
      "Added InventoryLevel2: Other Inventory\n",
      "Added InventoryLevel2: Tools\n",
      "Added InventoryLevel2: Work-in-Progress\n",
      "Added InventoryLevel2: Raw Material & Mfg. Componets\n",
      "Added InventoryLevel3: Stock In Transit - Raw Material\n",
      "Added InventoryLevel3: Stock in Trade\n",
      "Added InventoryLevel3: Finished Goods\n",
      "Added InventoryLevel3: Stock In Transit - Finised Goods\n",
      "Added InventoryLevel3: Raw Material & Mfg. Componet\n",
      "Added InventoryLevel3: Stock In Transit - Traded Goods.............\n",
      "Added InventoryLevel2: Stores and Spares\n",
      "Added InventoryLevel2: Stock in Trade\n",
      "Added InventoryLevel2: Inventory Machinery Spares\n",
      "Added InventoryLevel2: Finished Goods\n",
      "Added InventoryLevel2: Other Inventory\n",
      "Added InventoryLevel2: Tools\n",
      "Added InventoryLevel2: Work-in-Progress\n",
      "Added InventoryLevel2: Raw Material & Mfg. Componets\n",
      "Added InventoryLevel3: Stock In Transit - Raw Material\n",
      "Added InventoryLevel3: Stock in Trade\n",
      "Added InventoryLevel3: Finished Goods\n",
      "Added InventoryLevel3: Stock In Transit - Finised Goods\n",
      "Added InventoryLevel3: Raw Material & Mfg. Componet\n",
      "Added InventoryLevel3: Stock In Transit - Traded Goods.............\n"
     ]
    },
    {
     "name": "stderr",
     "output_type": "stream",
     "text": [
      "C:\\Users\\emerg\\AppData\\Local\\Temp\\ipykernel_2656\\3201807440.py:12: DeprecationWarning: Using a driver after it has been closed is deprecated. Future versions of the driver will raise an error.\n",
      "  with driver.session() as session:\n"
     ]
    }
   ],
   "source": [
    "# Example usage:\n",
    "add_inventorylevel2_and_level3_nodes_outline(driver, inventories_fy23)\n",
    "add_inventorylevel2_and_level3_nodes_outline(driver, inventories_fy24)"
   ]
  },
  {
   "cell_type": "code",
   "execution_count": 14,
   "id": "6550d0c1",
   "metadata": {},
   "outputs": [
    {
     "name": "stderr",
     "output_type": "stream",
     "text": [
      "C:\\Users\\emerg\\AppData\\Local\\Temp\\ipykernel_2656\\118950405.py:6: DeprecationWarning: Using a driver after it has been closed is deprecated. Future versions of the driver will raise an error.\n",
      "  with driver.session() as session:\n"
     ]
    },
    {
     "name": "stdout",
     "output_type": "stream",
     "text": [
      "InventoryLevel1: Inventories -> InventoryLevel2: Raw Material & Mfg. Componets -> InventoryLevel3: Raw Material & Mfg. Componet -> InventoryLevel4: Closing Stock- Gunny Bags\n",
      "InventoryLevel1: Inventories -> InventoryLevel2: Raw Material & Mfg. Componets -> InventoryLevel3: Raw Material & Mfg. Componet -> InventoryLevel4: Clg Stock - Raw Material-B/s\n",
      "InventoryLevel1: Inventories -> InventoryLevel2: Raw Material & Mfg. Componets -> InventoryLevel3: Raw Material & Mfg. Componet -> InventoryLevel4: Clg Stock - Mfg Component B/s\n",
      "InventoryLevel1: Inventories -> InventoryLevel2: Raw Material & Mfg. Componets -> InventoryLevel3: Stock In Transit - Raw Material -> InventoryLevel4: Clg Stock In Transit - Rm - B/s\n",
      "InventoryLevel1: Inventories -> InventoryLevel2: Work-in-Progress -> InventoryLevel4: WIP- Seed Potato Facility A/c\n",
      "InventoryLevel1: Inventories -> InventoryLevel2: Work-in-Progress -> InventoryLevel4: Construction Work In Progress\n",
      "InventoryLevel1: Inventories -> InventoryLevel2: Work-in-Progress -> InventoryLevel4: Clg Stock - Wip - B/s\n",
      "InventoryLevel1: Inventories -> InventoryLevel2: Work-in-Progress -> InventoryLevel4: Clg Stock - Construction W I P - B/s\n",
      "InventoryLevel1: Inventories -> InventoryLevel2: Finished Goods -> InventoryLevel3: Stock In Transit - Finised Goods -> InventoryLevel4: Clg Stock In Transit - FG B/s\n",
      "InventoryLevel1: Inventories -> InventoryLevel2: Finished Goods -> InventoryLevel3: Finished Goods -> InventoryLevel4: Clg Stock - Finished Goods - B/s\n"
     ]
    }
   ],
   "source": [
    "def test_inventory_hierarchy_paths(driver):\n",
    "    query = \"\"\"\n",
    "    MATCH p=(:InventoryLevel1)-[:HAS_SUB_INVENTORY*]->(:InventoryLevel4)\n",
    "    RETURN p LIMIT 10\n",
    "    \"\"\"\n",
    "    with driver.session() as session:\n",
    "        results = session.run(query)\n",
    "        for record in results:\n",
    "            path = record[\"p\"]\n",
    "            node_names = []\n",
    "            for node in path.nodes:\n",
    "                labels = list(node.labels)\n",
    "                name = node.get(\"name\", \"[no name]\")\n",
    "                node_names.append(f\"{labels[0]}: {name}\")\n",
    "            print(\" -> \".join(node_names))\n",
    "\n",
    "# Usage:\n",
    "test_inventory_hierarchy_paths(driver)\n"
   ]
  },
  {
   "cell_type": "code",
   "execution_count": 15,
   "id": "a7b31a0d",
   "metadata": {},
   "outputs": [
    {
     "name": "stdout",
     "output_type": "stream",
     "text": [
      "Relationship Types in DB:\n",
      " - HAS_SUB_INVENTORY\n",
      " - HAS_AMOUNT\n"
     ]
    },
    {
     "name": "stderr",
     "output_type": "stream",
     "text": [
      "C:\\Users\\emerg\\AppData\\Local\\Temp\\ipykernel_2656\\2877436635.py:2: DeprecationWarning: Using a driver after it has been closed is deprecated. Future versions of the driver will raise an error.\n",
      "  with driver.session() as session:\n"
     ]
    }
   ],
   "source": [
    "def print_relationship_types(driver):\n",
    "    with driver.session() as session:\n",
    "        result = session.run(\"CALL db.relationshipTypes()\")\n",
    "        print(\"Relationship Types in DB:\")\n",
    "        for record in result:\n",
    "            print(f\" - {record[0]}\")\n",
    "print_relationship_types(driver)\n"
   ]
  },
  {
   "cell_type": "code",
   "execution_count": 16,
   "id": "5e175e69",
   "metadata": {},
   "outputs": [
    {
     "name": "stderr",
     "output_type": "stream",
     "text": [
      "C:\\Users\\emerg\\AppData\\Local\\Temp\\ipykernel_2656\\1603112739.py:29: DeprecationWarning: Using a driver after it has been closed is deprecated. Future versions of the driver will raise an error.\n",
      "  with driver.session() as session:\n"
     ]
    },
    {
     "name": "stdout",
     "output_type": "stream",
     "text": [
      "Linked L2 'Stores and Spares' -> L4 'Inventory Oils, Grease & Chemicals'\n",
      "Linked L2 'Stores and Spares' -> L4 'Inventorie Consumable Stores & Misc.'\n",
      "Linked L2 'Stores and Spares' -> L4 'G-Stock Materiali Ricoperti CBN'\n",
      "Linked L2 'Stores and Spares' -> L4 'Stock in transit - Stores & Spares'\n",
      "Linked L2 'Stores and Spares' -> L4 'Inventory Stores- Manual Adj'\n",
      "Linked L2 'Stores and Spares' -> L4 'Inventory Packing Material'\n",
      "Linked L2 'Inventory Machinery Spares' -> L4 'Inventory Spares'\n",
      "Linked L2 'Inventory Machinery Spares' -> L4 'Inventory Manufactured Tools'\n",
      "Linked L2 'Inventory Machinery Spares' -> L4 'Inventory Spares- Manual Adj'\n",
      "Linked L2 'Inventory Machinery Spares' -> L4 'In Transit - Stores & Spares'\n",
      "Linked L2 'Tools' -> L4 'Inventory Tools'\n",
      "Linked L2 'Tools' -> L4 'Inventory Manufactured Tools'\n",
      "Linked L2 'Tools' -> L4 'Inventory Tools- Manual Adj'\n",
      "Linked L2 'Tools' -> L4 'Stock in transit - Tools'\n",
      "Linked L2 'Tools' -> L4 'Inventory Dies'\n",
      "Linked L2 'Other Inventory' -> L4 'Food & Beverages'\n",
      "Linked L2 'Other Inventory' -> L4 'Ind-AS  Inventories'\n",
      "Linked L2 'Other Inventory' -> L4 'Plant & Machinery Held For Sale'\n"
     ]
    }
   ],
   "source": [
    "## Linking L2 and L4\n",
    "\n",
    "def add_direct_l2_to_l4_relationships(driver):\n",
    "    # List of (L2, L4) tuples as described\n",
    "    direct_links = [\n",
    "        # Stores and Spares\n",
    "        (\"Stores and Spares\", \"Inventory Oils, Grease & Chemicals\"),\n",
    "        (\"Stores and Spares\", \"Inventorie Consumable Stores & Misc.\"),\n",
    "        (\"Stores and Spares\", \"G-Stock Materiali Ricoperti CBN\"),\n",
    "        (\"Stores and Spares\", \"Stock in transit - Stores & Spares\"),\n",
    "        (\"Stores and Spares\", \"Inventory Stores- Manual Adj\"),\n",
    "        (\"Stores and Spares\", \"Inventory Packing Material\"),\n",
    "        # Inventory Machinery Spares\n",
    "        (\"Inventory Machinery Spares\", \"Inventory Spares\"),\n",
    "        (\"Inventory Machinery Spares\", \"Inventory Manufactured Tools\"),\n",
    "        (\"Inventory Machinery Spares\", \"Inventory Spares- Manual Adj\"),\n",
    "        (\"Inventory Machinery Spares\", \"In Transit - Stores & Spares\"),\n",
    "        # Tools\n",
    "        (\"Tools\", \"Inventory Tools\"),\n",
    "        (\"Tools\", \"Inventory Manufactured Tools\"),\n",
    "        (\"Tools\", \"Inventory Tools- Manual Adj\"),\n",
    "        (\"Tools\", \"Stock in transit - Tools\"),\n",
    "        (\"Tools\", \"Inventory Dies\"),\n",
    "        # Other Inventory\n",
    "        (\"Other Inventory\", \"Food & Beverages\"),\n",
    "        (\"Other Inventory\", \"Ind-AS  Inventories\"),\n",
    "        (\"Other Inventory\", \"Plant & Machinery Held For Sale\"),\n",
    "    ]\n",
    "    with driver.session() as session:\n",
    "        for l2, l4 in direct_links:\n",
    "            session.run(\"\"\"\n",
    "                MERGE (parent:InventoryLevel2 {name: $l2})\n",
    "                MERGE (child:InventoryLevel4 {name: $l4})\n",
    "                MERGE (parent)-[:HAS_SUB_INVENTORY]->(child)\n",
    "            \"\"\", l2=l2, l4=l4)\n",
    "            print(f\"Linked L2 '{l2}' -> L4 '{l4}'\")\n",
    "\n",
    "# Usage:\n",
    "add_direct_l2_to_l4_relationships(driver)\n"
   ]
  },
  {
   "cell_type": "code",
   "execution_count": 17,
   "id": "ad5e8e9f",
   "metadata": {},
   "outputs": [
    {
     "name": "stdout",
     "output_type": "stream",
     "text": [
      "['001-AS', '133-FES', '008-SWARAJ', '002-HO', 'Powerol', 'CE', 'Agri', '004-MDS', 'Synergy', '007-SBU', 'TW', '134-TPDS', '135-INTNL OPER', '138-CONT SOUR', '140-NON MRV', '141-SOURCING', '139-CORP']\n"
     ]
    }
   ],
   "source": [
    "group_cols = [col for col in inventories_fy23.columns if col not in ['L1', 'L2', 'L3', 'L4']]\n",
    "\n",
    "print(group_cols)"
   ]
  },
  {
   "cell_type": "code",
   "execution_count": 2,
   "id": "91b025a4",
   "metadata": {},
   "outputs": [],
   "source": [
    "def link_groupcompany_to_all_levels_with_actuals(df, year, driver):\n",
    "    group_cols = [col for col in df.columns if col not in ['L1', 'L2', 'L3', 'L4']]\n",
    "    with driver.session() as session:\n",
    "        for idx, row in df.iterrows():\n",
    "            levels = {\n",
    "                'InventoryLevel1': str(row['L1']).strip() if pd.notna(row['L1']) and row['L1'] else None,\n",
    "                'InventoryLevel2': str(row['L2']).strip() if pd.notna(row['L2']) and row['L2'] else None,\n",
    "                'InventoryLevel3': str(row['L3']).strip() if pd.notna(row['L3']) and row['L3'] else None,\n",
    "                'InventoryLevel4': str(row['L4']).strip() if pd.notna(row['L4']) and row['L4'] else None,\n",
    "            }\n",
    "\n",
    "            for company in group_cols:\n",
    "                val = row[company]\n",
    "                amount_str = str(val).replace(\",\", \"\").strip()\n",
    "                if amount_str in [\"-\", \"--\", \"–\", \"\"]:\n",
    "                    amount = 0.0\n",
    "                else:\n",
    "                    try:\n",
    "                        amount = float(amount_str)\n",
    "                    except Exception:\n",
    "                        amount = 0.0\n",
    "\n",
    "                # Link all levels (L1-L4) unconditionally\n",
    "                for level_label, level_name in levels.items():\n",
    "                    if not level_name:\n",
    "                        continue\n",
    "                    session.run(f\"\"\"\n",
    "                        MERGE (c:GroupCompany {{name: $company}})\n",
    "                        MERGE (inv:{level_label} {{name: $inv_name}})\n",
    "                        MERGE (c)-[r:HAS_AMOUNT {{year: $year}}]->(inv)\n",
    "                        SET r.amount = $amount\n",
    "                    \"\"\", company=company, inv_name=level_name, year=year, amount=amount)\n",
    "                    print(f\"[{level_label}] Linked {company} -> {level_name} with amount {amount} for {year}\")\n",
    "\n",
    "\n",
    "\n"
   ]
  },
  {
   "cell_type": "code",
   "execution_count": 3,
   "id": "cda32976",
   "metadata": {},
   "outputs": [],
   "source": [
    "# Example usage:\n",
    "# link_groupcompany_to_all_levels_with_actuals(inventories_fy23, \"FY23\", driver)\n",
    "# link_groupcompany_to_all_levels_with_actuals(inventories_fy24, \"FY24\", driver)"
   ]
  },
  {
   "cell_type": "code",
   "execution_count": 19,
   "id": "49e3aefc",
   "metadata": {},
   "outputs": [
    {
     "name": "stdout",
     "output_type": "stream",
     "text": [
      "Old to new mapping:\n",
      "001-AS → AS\n",
      "002-HO → HO\n",
      "004-MDS → MDS\n",
      "007-SBU → SBU\n",
      "008-SWARAJ → SWARAJ\n",
      "133-FES → FES\n",
      "134-TPDS → TPDS\n",
      "135-INTNL OPER → INTNL OPER\n",
      "138-CONT SOUR → CONT SOUR\n",
      "139-CORP → CORP\n",
      "140-NON MRV → NON MRV\n",
      "141-SOURCING → SOURCING\n",
      "Renamed: 001-AS → AS\n",
      "Renamed: 002-HO → HO\n",
      "Renamed: 004-MDS → MDS\n",
      "Renamed: 007-SBU → SBU\n",
      "Renamed: 008-SWARAJ → SWARAJ\n",
      "Renamed: 133-FES → FES\n",
      "Renamed: 134-TPDS → TPDS\n",
      "Renamed: 135-INTNL OPER → INTNL OPER\n",
      "Renamed: 138-CONT SOUR → CONT SOUR\n",
      "Renamed: 139-CORP → CORP\n",
      "Renamed: 140-NON MRV → NON MRV\n",
      "Renamed: 141-SOURCING → SOURCING\n"
     ]
    },
    {
     "name": "stderr",
     "output_type": "stream",
     "text": [
      "C:\\Users\\emerg\\AppData\\Local\\Temp\\ipykernel_2656\\1836264083.py:21: DeprecationWarning: Using a driver after it has been closed is deprecated. Future versions of the driver will raise an error.\n",
      "  with driver.session() as session:\n"
     ]
    }
   ],
   "source": [
    "import re\n",
    "\n",
    "original_names = [\n",
    "    \"001-AS\", \"002-HO\", \"004-MDS\", \"007-SBU\", \"008-SWARAJ\",\n",
    "    \"133-FES\", \"134-TPDS\", \"135-INTNL OPER\", \"138-CONT SOUR\",\n",
    "    \"139-CORP\", \"140-NON MRV\", \"141-SOURCING\"\n",
    "]\n",
    "\n",
    "def strip_number_prefix(name):\n",
    "    return re.sub(r\"^\\d+\\-?\", \"\", name).strip()\n",
    "\n",
    "cleaned_names = {old: strip_number_prefix(old) for old in original_names}\n",
    "\n",
    "# Print mapping\n",
    "print(\"Old to new mapping:\")\n",
    "for old, new in cleaned_names.items():\n",
    "    print(f\"{old} → {new}\")\n",
    "\n",
    "# Update in Neo4j\n",
    "def update_groupcompany_names(driver):\n",
    "    with driver.session() as session:\n",
    "        for old_name, new_name in cleaned_names.items():\n",
    "            session.run(\"\"\"\n",
    "                MATCH (c:GroupCompany {name: $old_name})\n",
    "                SET c.name = $new_name\n",
    "            \"\"\", old_name=old_name, new_name=new_name)\n",
    "            print(f\"Renamed: {old_name} → {new_name}\")\n",
    "\n",
    "\n",
    "update_groupcompany_names(driver)"
   ]
  },
  {
   "cell_type": "code",
   "execution_count": 21,
   "id": "683b3945",
   "metadata": {},
   "outputs": [
    {
     "name": "stdout",
     "output_type": "stream",
     "text": [
      "Renamed 1 InventoryLevel3 node(s) from 'Stock In Transit - Traded Goods.............' to 'Stock In Transit - Traded Goods'\n"
     ]
    },
    {
     "name": "stderr",
     "output_type": "stream",
     "text": [
      "C:\\Users\\emerg\\AppData\\Local\\Temp\\ipykernel_2656\\3725075887.py:3: DeprecationWarning: Using a driver after it has been closed is deprecated. Future versions of the driver will raise an error.\n",
      "  with driver.session() as session:\n"
     ]
    }
   ],
   "source": [
    "## Traded Goods............. ---->>>>  Traded Goods\n",
    "def rename_inventorylevel3_node(driver, old_name, new_name):\n",
    "    with driver.session() as session:\n",
    "        result = session.run(\n",
    "            \"\"\"\n",
    "            MATCH (n:InventoryLevel3 {name: $old_name})\n",
    "            SET n.name = $new_name\n",
    "            RETURN count(n) AS updated_count\n",
    "            \"\"\",\n",
    "            old_name=old_name,\n",
    "            new_name=new_name,\n",
    "        )\n",
    "        count = result.single()[\"updated_count\"]\n",
    "        if count:\n",
    "            print(f\"Renamed {count} InventoryLevel3 node(s) from '{old_name}' to '{new_name}'\")\n",
    "        else:\n",
    "            print(f\"No InventoryLevel3 node found with name '{old_name}'.\")\n",
    "\n",
    "# Usage:\n",
    "rename_inventorylevel3_node(\n",
    "    driver,\n",
    "    \"Stock In Transit - Traded Goods.............\",\n",
    "    \"Stock In Transit - Traded Goods\"\n",
    ")\n"
   ]
  },
  {
   "cell_type": "markdown",
   "id": "34a20c20",
   "metadata": {},
   "source": [
    "## Quering through our Neo4j Graph"
   ]
  },
  {
   "cell_type": "code",
   "execution_count": null,
   "id": "6922cd59",
   "metadata": {},
   "outputs": [],
   "source": [
    "## Querying through our Knowledge Graph \n",
    "def run_cypher_query(cypher_query, parameters=None):\n",
    "    with driver.session() as session:\n",
    "        result = session.run(cypher_query, parameters or {})\n",
    "        # Convert Neo4j result to list of dicts, then to DataFrame\n",
    "        records = [record.data() for record in result]\n",
    "    return pd.DataFrame(records)\n"
   ]
  },
  {
   "cell_type": "code",
   "execution_count": null,
   "id": "b9305067",
   "metadata": {},
   "outputs": [],
   "source": [
    "def run_cypher_scalar(cypher, params=None):\n",
    "    with driver.session() as session:\n",
    "        result = session.run(cypher, params or {})\n",
    "        raw = [record.data() for record in result]\n",
    "        return raw"
   ]
  },
  {
   "cell_type": "code",
   "execution_count": null,
   "id": "67f03734",
   "metadata": {},
   "outputs": [],
   "source": [
    "## Get All Relationships\n",
    "\n",
    "cypher = \"\"\"\n",
    "MATCH (g:GroupCompany)-[r:HAS_INVENTORY]->(i:InventoryType)\n",
    "RETURN g.name AS company, i.name AS inventory_type, r.year AS year, r.amount AS amount\n",
    "ORDER BY company, year, inventory_type\n",
    "\"\"\"\n",
    "df_all = run_cypher_query(cypher)\n",
    "print(df_all.head())\n",
    "\n"
   ]
  },
  {
   "cell_type": "code",
   "execution_count": null,
   "id": "c8bebe68",
   "metadata": {},
   "outputs": [],
   "source": [
    "## Get Inventory for a Specific Company and Year\n",
    "cypher = \"\"\"\n",
    "MATCH (g:GroupCompany {name: $company})-[r:HAS_INVENTORY {year: $year}]->(i:InventoryType)\n",
    "RETURN g.name AS company, i.name AS inventory_type, r.year AS year, r.amount AS amount\n",
    "ORDER BY inventory_type\n",
    "\"\"\"\n",
    "params = {\"company\": \"001-AS\", \"year\": \"FY24\"}\n",
    "df_company = run_cypher_query(cypher, params)\n",
    "print(df_company)"
   ]
  },
  {
   "cell_type": "code",
   "execution_count": null,
   "id": "2b3ffc58",
   "metadata": {},
   "outputs": [],
   "source": [
    "## Get Total Inventory by Company for FY24\n",
    "cypher = \"\"\"\n",
    "MATCH (g:GroupCompany)-[r:HAS_INVENTORY {year:\"FY24\"}]->(i:InventoryType)\n",
    "RETURN g.name AS company, SUM(r.amount) AS total_inventory\n",
    "ORDER BY total_inventory DESC\n",
    "\"\"\"\n",
    "df_total = run_cypher_query(cypher)\n",
    "print(df_total)\n"
   ]
  },
  {
   "cell_type": "code",
   "execution_count": null,
   "id": "f68ef502",
   "metadata": {},
   "outputs": [],
   "source": [
    "## Calculate the difference between a inventory for a company for FY23 - FY24\n",
    "\n",
    "def year_difference(company, inventory):\n",
    "    cypher = \"\"\"\n",
    "    MATCH (g:GroupCompany {name: $company})-[r:HAS_INVENTORY]->(i:InventoryType {name: $inventory})\n",
    "    WHERE r.year IN ['FY24', 'FY23']\n",
    "    RETURN\n",
    "      MAX(CASE WHEN r.year = 'FY24' THEN r.amount ELSE 0 END) AS FY24,\n",
    "      MAX(CASE WHEN r.year = 'FY23' THEN r.amount ELSE 0 END) AS FY23,\n",
    "      MAX(CASE WHEN r.year = 'FY24' THEN r.amount ELSE 0 END) - \n",
    "      MAX(CASE WHEN r.year = 'FY23' THEN r.amount ELSE 0 END) AS difference\n",
    "    \"\"\"\n",
    "    params = {\n",
    "        \"company\": company,\n",
    "        \"inventory\": inventory\n",
    "    }\n",
    "    df = run_cypher_query(cypher, params)\n",
    "    return df\n",
    "\n",
    "# Example usage:\n",
    "df_diff = year_difference(\n",
    "    company=\"001-AS\",\n",
    "    inventory=\"Raw Material\"\n",
    ")\n",
    "print(df_diff)\n"
   ]
  },
  {
   "cell_type": "code",
   "execution_count": null,
   "id": "97f42ea5",
   "metadata": {},
   "outputs": [],
   "source": []
  },
  {
   "cell_type": "code",
   "execution_count": null,
   "id": "8a6a42ea",
   "metadata": {},
   "outputs": [],
   "source": [
    "def delete_old_inventory_nodes(driver):\n",
    "    with driver.session() as session:\n",
    "        # Delete all InventoryType nodes and their relationships\n",
    "        session.run(\"MATCH (n:InventoryType) DETACH DELETE n\")\n",
    "        print(\"Deleted all InventoryType nodes and their relationships.\")\n",
    "        \n",
    "        # Delete all Inventories nodes and their relationships\n",
    "        session.run(\"MATCH (n:Inventories) DETACH DELETE n\")\n",
    "        print(\"Deleted all Inventories nodes and their relationships.\")\n",
    "\n",
    "# Usage:\n",
    "delete_old_inventory_nodes(driver)\n"
   ]
  },
  {
   "cell_type": "markdown",
   "id": "ce642164",
   "metadata": {},
   "source": [
    "## Get the schema of the KG"
   ]
  },
  {
   "cell_type": "code",
   "execution_count": 22,
   "id": "7a4c9a00",
   "metadata": {},
   "outputs": [
    {
     "name": "stdout",
     "output_type": "stream",
     "text": [
      "KG schema overview saved to kg_schema_overview3.md\n"
     ]
    },
    {
     "name": "stderr",
     "output_type": "stream",
     "text": [
      "C:\\Users\\emerg\\AppData\\Local\\Temp\\ipykernel_2656\\2753191252.py:3: DeprecationWarning: Using a driver after it has been closed is deprecated. Future versions of the driver will raise an error.\n",
      "  with driver.session() as session:\n"
     ]
    }
   ],
   "source": [
    "def save_kg_overview_to_markdown(driver, filename=\"kg_schema_overview3.md\"):\n",
    "    md = []\n",
    "    with driver.session() as session:\n",
    "        # Node labels\n",
    "        md.append(\"## Node Labels\\n\")\n",
    "        labels = [record[0] for record in session.run(\"CALL db.labels()\")]\n",
    "        for label in labels:\n",
    "            md.append(f\"- `{label}`\")\n",
    "        md.append(\"\")\n",
    "\n",
    "        # Relationship types\n",
    "        md.append(\"## Relationship Types\\n\")\n",
    "        rel_types = [record[0] for record in session.run(\"CALL db.relationshipTypes()\")]\n",
    "        for rel_type in rel_types:\n",
    "            md.append(f\"- `{rel_type}`\")\n",
    "        md.append(\"\")\n",
    "\n",
    "        # Relationship patterns\n",
    "        md.append(\"## Relationship Patterns\\n\")\n",
    "        patterns = session.run(\"\"\"\n",
    "            MATCH (a)-[r]->(b)\n",
    "            RETURN DISTINCT labels(a) AS from_labels, type(r) AS rel_type, labels(b) AS to_labels\n",
    "        \"\"\")\n",
    "        for record in patterns:\n",
    "            from_labels = ', '.join(record['from_labels'])\n",
    "            to_labels = ', '.join(record['to_labels'])\n",
    "            md.append(f\"- `{from_labels}` -[`{record['rel_type']}`]-> `{to_labels}`\")\n",
    "        md.append(\"\")\n",
    "\n",
    "        # All nodes by label\n",
    "        md.append(\"## All Nodes by Label\\n\")\n",
    "        for label in labels:\n",
    "            nodes = session.run(f\"MATCH (n:`{label}`) RETURN n.name AS name ORDER BY name\")\n",
    "            names = [record[\"name\"] for record in nodes if record[\"name\"]]\n",
    "            if names:\n",
    "                md.append(f\"### {label}\")\n",
    "                for name in names:\n",
    "                    md.append(f\"- {name}\")\n",
    "                md.append(\"\")\n",
    "\n",
    "        # All relationships (without values)\n",
    "        md.append(\"## All Relationships (excluding actual values)\\n\")\n",
    "        rels = session.run(\"\"\"\n",
    "            MATCH (a)-[r]->(b)\n",
    "            RETURN type(r) AS rel_type, labels(a) AS from_labels, a.name AS from_name, labels(b) AS to_labels, b.name AS to_name\n",
    "        \"\"\")\n",
    "        for record in rels:\n",
    "            md.append(f\"- ({record['from_labels'][0]}: {record['from_name']}) -[{record['rel_type']}]-> ({record['to_labels'][0]}: {record['to_name']})\")\n",
    "        md.append(\"\")\n",
    "\n",
    "        # Group company names\n",
    "        md.append(\"## All GroupCompany Nodes\\n\")\n",
    "        group_companies = session.run(\"MATCH (n:GroupCompany) RETURN n.name AS name ORDER BY name\")\n",
    "        for record in group_companies:\n",
    "            md.append(f\"- {record['name']}\")\n",
    "        md.append(\"\")\n",
    "\n",
    "    # Save to file\n",
    "    with open(filename, \"w\", encoding=\"utf-8\") as f:\n",
    "        f.write('\\n'.join(md))\n",
    "    print(f\"KG schema overview saved to {filename}\")\n",
    "\n",
    "# Usage:\n",
    "save_kg_overview_to_markdown(driver)\n"
   ]
  },
  {
   "cell_type": "code",
   "execution_count": null,
   "id": "176ed61c",
   "metadata": {},
   "outputs": [],
   "source": [
    "def save_has_amount_properties_to_markdown(driver, filename=\"has_amount_properties.md\"):\n",
    "    md = [\"## Property Keys for Nodes in HAS_AMOUNT Relationships\\n\"]\n",
    "    with driver.session() as session:\n",
    "        result = session.run(\"\"\"\n",
    "            MATCH (a)-[r:HAS_AMOUNT]->(b)\n",
    "            RETURN DISTINCT labels(a) AS labels_a, a AS node_a, labels(b) AS labels_b, b AS node_b\n",
    "        \"\"\")\n",
    "\n",
    "        properties_by_label = {}\n",
    "\n",
    "        for record in result:\n",
    "            for node, labels in [(record['node_a'], record['labels_a']), (record['node_b'], record['labels_b'])]:\n",
    "                for label in labels:\n",
    "                    if label not in properties_by_label:\n",
    "                        properties_by_label[label] = set()\n",
    "                    properties_by_label[label].update(node.keys())\n",
    "\n",
    "        for label, props in properties_by_label.items():\n",
    "            md.append(f\"### {label}\")\n",
    "            for prop in sorted(props):\n",
    "                md.append(f\"- {prop}\")\n",
    "            md.append(\"\")\n",
    "\n",
    "    with open(filename, \"w\", encoding=\"utf-8\") as f:\n",
    "        f.write('\\n'.join(md))\n",
    "    print(f\"Properties of nodes in HAS_AMOUNT relationships saved to {filename}\")\n",
    "\n",
    "# Usage:\n",
    "save_has_amount_properties_to_markdown(driver)\n"
   ]
  },
  {
   "cell_type": "code",
   "execution_count": null,
   "id": "e7fe8798",
   "metadata": {},
   "outputs": [],
   "source": [
    "### Get list of all nodes and relationship for L2 and L3\n",
    "\n",
    "def get_l2_l3_nodes_and_relationships(driver):\n",
    "    with driver.session() as session:\n",
    "        query = \"\"\"\n",
    "        MATCH (l2:InventoryLevel2)-[r:HAS_SUB_INVENTORY]->(l3:InventoryLevel3)\n",
    "        RETURN l2.name AS Level2, type(r) AS RelType, l3.name AS Level3\n",
    "        ORDER BY l2.name, l3.name\n",
    "        \"\"\"\n",
    "        results = session.run(query)\n",
    "        connections = []\n",
    "        for record in results:\n",
    "            l2 = record[\"Level2\"]\n",
    "            rel = record[\"RelType\"]\n",
    "            l3 = record[\"Level3\"]\n",
    "            connections.append((l2, rel, l3))\n",
    "            print(f\"{l2} -[{rel}]-> {l3}\")\n",
    "        return connections\n",
    "\n",
    "# Usage:\n",
    "get_l2_l3_nodes_and_relationships(driver)\n"
   ]
  },
  {
   "cell_type": "code",
   "execution_count": null,
   "id": "a9e2a81c",
   "metadata": {},
   "outputs": [],
   "source": [
    "### Get list of all nodes and relationship for L3 and L4\n",
    "\n",
    "def get_l3_l4_nodes_and_relationships(driver):\n",
    "    with driver.session() as session:\n",
    "        query = \"\"\"\n",
    "        MATCH (l3:InventoryLevel3)-[r:HAS_SUB_INVENTORY]->(l4:InventoryLevel4)\n",
    "        RETURN l3.name AS Level3, type(r) AS RelType, l4.name AS Level4\n",
    "        ORDER BY l3.name, l4.name\n",
    "        \"\"\"\n",
    "        results = session.run(query)\n",
    "        connections = []\n",
    "        for record in results:\n",
    "            l3 = record[\"Level3\"]\n",
    "            rel = record[\"RelType\"]\n",
    "            l4 = record[\"Level4\"]\n",
    "            connections.append((l3, rel, l4))\n",
    "            print(f\"{l3} -[{rel}]-> {l4}\")\n",
    "        return connections\n",
    "\n",
    "# Usage:\n",
    "get_l3_l4_nodes_and_relationships(driver)\n"
   ]
  },
  {
   "cell_type": "code",
   "execution_count": null,
   "id": "8c2d5019",
   "metadata": {},
   "outputs": [],
   "source": [
    "### Get list of all nodes and relationship for L4 and GroupCompanies\n",
    "\n",
    "def get_l4_groupcompany_relationships(driver):\n",
    "    with driver.session() as session:\n",
    "        query = \"\"\"\n",
    "        MATCH (gc:GroupCompany)-[r:HAS_AMOUNT]->(l4:InventoryLevel4)\n",
    "        RETURN gc.name AS GroupCompany, type(r) AS RelType, l4.name AS Level4, r.year AS Year, r.amount AS Amount\n",
    "        ORDER BY l4.name, gc.name, r.year\n",
    "        \"\"\"\n",
    "        results = session.run(query)\n",
    "        connections = []\n",
    "        for record in results:\n",
    "            gc = record[\"GroupCompany\"]\n",
    "            rel = record[\"RelType\"]\n",
    "            l4 = record[\"Level4\"]\n",
    "            year = record[\"Year\"]\n",
    "            amount = record[\"Amount\"]\n",
    "            connections.append((gc, rel, l4, year, amount))\n",
    "            print(f\"{gc} -[{rel} {{year: {year}, amount: {amount}}}]-> {l4}\")\n",
    "        return connections\n",
    "\n",
    "# Usage:\n",
    "get_l4_groupcompany_relationships(driver)\n"
   ]
  },
  {
   "cell_type": "markdown",
   "id": "5ed51b55",
   "metadata": {},
   "source": [
    "## Closing the connection"
   ]
  },
  {
   "cell_type": "code",
   "execution_count": null,
   "id": "68bcdf40",
   "metadata": {},
   "outputs": [],
   "source": [
    "driver.close()"
   ]
  },
  {
   "cell_type": "markdown",
   "id": "f8889dde",
   "metadata": {},
   "source": []
  },
  {
   "cell_type": "markdown",
   "id": "2b5f0754",
   "metadata": {},
   "source": [
    "## More sample queries"
   ]
  },
  {
   "cell_type": "code",
   "execution_count": null,
   "id": "9a1d5d73",
   "metadata": {},
   "outputs": [],
   "source": [
    "def run_query(query, parameters=None):\n",
    "    with driver.session() as session:\n",
    "        result = session.run(query, parameters or {})\n",
    "        return [record.data() for record in result]"
   ]
  },
  {
   "cell_type": "code",
   "execution_count": null,
   "id": "ab638ccf",
   "metadata": {},
   "outputs": [],
   "source": [
    "# 1. All InventoryLevel4 for GroupCompany 'AS'\n",
    "query1 = \"\"\"\n",
    "MATCH (g:GroupCompany {name: \"AS\"})-[:HAS_AMOUNT]->(inv4:InventoryLevel4)\n",
    "RETURN inv4.name\n",
    "\"\"\"\n",
    "results1 = run_query(query1)\n",
    "print(\"InventoryLevel4 for AS:\", results1)"
   ]
  },
  {
   "cell_type": "code",
   "execution_count": null,
   "id": "ebef38ff",
   "metadata": {},
   "outputs": [],
   "source": [
    "# 3. InventoryLevel4 linked to InventoryLevel2 'Stores and Spares'\n",
    "query3 = \"\"\"\n",
    "MATCH (l2:InventoryLevel2 {name: \"Stores and Spares\"})-[:HAS_SUB_INVENTORY]->(l4:InventoryLevel4)\n",
    "RETURN l4.name\n",
    "\"\"\"\n",
    "results3 = run_query(query3)\n",
    "print(\"Level4 under 'Stores and Spares':\", results3)"
   ]
  },
  {
   "cell_type": "code",
   "execution_count": null,
   "id": "de77d712",
   "metadata": {},
   "outputs": [],
   "source": []
  },
  {
   "cell_type": "code",
   "execution_count": null,
   "id": "9abbd733",
   "metadata": {},
   "outputs": [],
   "source": [
    "# 4. GroupCompanies with HAS_AMOUNT to InventoryLevel4 'Inventory Spares'\n",
    "query4 = \"\"\"\n",
    "MATCH (g:GroupCompany)-[:HAS_AMOUNT]->(inv4:InventoryLevel4 {name: \"Inventory Spares\"})\n",
    "RETURN g.name\n",
    "\"\"\"\n",
    "results4 = run_query(query4)\n",
    "print(\"Companies with 'Inventory Spares':\", results4)"
   ]
  },
  {
   "cell_type": "code",
   "execution_count": null,
   "id": "476d33b9",
   "metadata": {},
   "outputs": [],
   "source": [
    "examples = [\n",
    "    {\"node_name\": \"AS\", \"label\": \"GroupCompany\"},\n",
    "    {\"node_name\": \"Inventories\", \"label\": \"InventoryLevel1\"},\n",
    "    {\"node_name\": \"Stores and Spares\", \"label\": \"InventoryLevel2\"},\n",
    "    {\"node_name\": \"Raw Material & Mfg. Componet\", \"label\": \"InventoryLevel3\"},\n",
    "    {\"node_name\": \"Inventory Spares\", \"label\": \"InventoryLevel4\"},\n",
    "]\n",
    "\n",
    "cypher_query = \"\"\"\n",
    "MATCH (n)-[r]-(m)\n",
    "WHERE n.name = $node_name AND labels(n)[0] = $label\n",
    "RETURN \n",
    "  n.name AS source_name, \n",
    "  labels(n)[0] AS source_label,\n",
    "  type(r) AS relationship_type, \n",
    "  r.name AS rel_name, \n",
    "  r.year AS rel_year, \n",
    "  r.amount AS rel_amount, \n",
    "  m.name AS target_name, \n",
    "  labels(m)[0] AS target_label\n",
    "\"\"\"\n",
    "\n",
    "for example in examples:\n",
    "    print(f\"--- Connections for {example['label']} node '{example['node_name']}' ---\")\n",
    "    results = run_query(cypher_query, example)\n",
    "    for record in results:\n",
    "        print(record)\n",
    "    print()\n"
   ]
  },
  {
   "cell_type": "code",
   "execution_count": null,
   "id": "b9cc0e8a",
   "metadata": {},
   "outputs": [],
   "source": []
  },
  {
   "cell_type": "code",
   "execution_count": null,
   "id": "b7f9bf2d",
   "metadata": {},
   "outputs": [],
   "source": []
  },
  {
   "cell_type": "code",
   "execution_count": null,
   "id": "9dddd084",
   "metadata": {},
   "outputs": [],
   "source": [
    "cypher1 = \"\"\"\n",
    "MATCH (g:GroupCompany {name: 'Powerol'})-[:HAS_INVENTORY]->(i:InventoryType)\n",
    "RETURN count(DISTINCT i) AS inventoryTypeCount\n",
    "\"\"\"\n",
    "answer1 = run_cypher_scalar(cypher1)\n",
    "print(f\"Number of inventory types for Powerol: {answer1}\")"
   ]
  },
  {
   "cell_type": "code",
   "execution_count": null,
   "id": "83b67157",
   "metadata": {},
   "outputs": [],
   "source": [
    "cypher2 = \"\"\"\n",
    "MATCH (g:GroupCompany {name: '008-SWARAJ'})-[h:HAS_INVENTORY {year: 'FY24'}]->(i:InventoryType)\n",
    "RETURN sum(h.amount) AS totalAmount\n",
    "\"\"\"\n",
    "answer2 = run_cypher_scalar(cypher2)\n",
    "print(f\"Total inventory amount for 008-SWARAJ in 2023: {answer2}\")"
   ]
  },
  {
   "cell_type": "code",
   "execution_count": null,
   "id": "1193da86",
   "metadata": {},
   "outputs": [],
   "source": [
    "cypher3 = \"\"\"\n",
    "MATCH (g:GroupCompany {name: '001-AS'})-[h:HAS_INVENTORY]->(i:InventoryType)\n",
    "WHERE i.name = 'Stores and Spares' AND h.year IN ['FY23', 'FY24']\n",
    "RETURN \n",
    "  sum(CASE WHEN h.year = 'FY24' THEN h.amount ELSE 0 END) -\n",
    "  sum(CASE WHEN h.year = 'FY23' THEN h.amount ELSE 0 END) AS difference\n",
    "\"\"\"\n",
    "answer3 = run_cypher_scalar(cypher3)\n",
    "print(f\"Difference in 'Stores and Spares' for 001-AS (FY24 - FY23): {answer3}\")"
   ]
  },
  {
   "cell_type": "code",
   "execution_count": null,
   "id": "21761a33",
   "metadata": {},
   "outputs": [],
   "source": [
    "cypher = \"\"\"\n",
    "MATCH (g:GroupCompany)-[h:HAS_INVENTORY]->(i:InventoryType)\n",
    "WHERE h.year IN ['FY24', 'FY23']\n",
    "WITH i.name AS inventory_type,\n",
    "     sum(CASE WHEN h.year = 'FY24' THEN h.amount ELSE 0 END) AS fy24_total,\n",
    "     sum(CASE WHEN h.year = 'FY23' THEN h.amount ELSE 0 END) AS fy23_total\n",
    "RETURN inventory_type, fy24_total, fy23_total, (fy24_total - fy23_total) AS difference\n",
    "ORDER BY abs(difference) DESC\n",
    "LIMIT 1\n",
    "\"\"\"\n",
    "with driver.session() as session:\n",
    "    record = session.run(cypher).single()\n",
    "    if record:\n",
    "        print(f\"Inventory type with highest change: {record['inventory_type']}\")\n",
    "        print(f\"  FY24 Total: {record['fy24_total']}\")\n",
    "        print(f\"  FY23 Total: {record['fy23_total']}\")\n",
    "        print(f\"  Difference: {record['difference']}\")\n",
    "    else:\n",
    "        print(\"No data found.\")\n"
   ]
  },
  {
   "cell_type": "code",
   "execution_count": null,
   "id": "9bc8d7b2",
   "metadata": {},
   "outputs": [],
   "source": [
    "cypher = \"\"\"\n",
    "MATCH (g:GroupCompany)-[h:HAS_INVENTORY]->(i:InventoryType)\n",
    "WHERE h.year IN ['FY24', 'FY23']\n",
    "WITH i.name AS inventory_type,\n",
    "     sum(CASE WHEN h.year = 'FY24' THEN h.amount ELSE 0 END) AS fy24_total,\n",
    "     sum(CASE WHEN h.year = 'FY23' THEN h.amount ELSE 0 END) AS fy23_total\n",
    "RETURN\n",
    "  inventory_type,\n",
    "  fy24_total,\n",
    "  fy23_total,\n",
    "  (fy24_total - fy23_total) AS difference\n",
    "ORDER BY abs(difference) DESC\n",
    "LIMIT 1\n",
    "\"\"\"\n",
    "with driver.session() as session:\n",
    "    record = session.run(cypher).single()\n",
    "    if record:\n",
    "        print(f\"Inventory type with the highest difference between FY24 and FY23: \")\n",
    "        print({record['inventory_type']})\n",
    "        print(f\"  FY24 Total: {record['fy24_total']}\")\n",
    "        print(f\"  FY23 Total: {record['fy23_total']}\")\n",
    "        print(f\"  Difference (FY24 - FY23): {record['difference']}\")\n",
    "    else:\n",
    "        print(\"No data found.\")\n"
   ]
  },
  {
   "cell_type": "code",
   "execution_count": null,
   "id": "310d7220",
   "metadata": {},
   "outputs": [],
   "source": [
    "cypher = \"\"\"\n",
    "MATCH (g:GroupCompany)-[h:HAS_INVENTORY {year: 'FY23'}]->(i:InventoryType)\n",
    "RETURN g.name AS company_name, i.name AS inventory_type, h.amount AS amount\n",
    "ORDER BY company_name, inventory_type\n",
    "\"\"\"\n",
    "\n",
    "with driver.session() as session:\n",
    "    results = session.run(cypher)\n",
    "    for record in results:\n",
    "        print(\n",
    "            f\"Company: {record['company_name']}, \"\n",
    "            f\"Inventory: {record['inventory_type']}, \"\n",
    "            f\"Amount: {record['amount']}\"\n",
    "        )\n"
   ]
  },
  {
   "cell_type": "code",
   "execution_count": null,
   "id": "bcabf132",
   "metadata": {},
   "outputs": [],
   "source": [
    "def total_inventory_for_company_and_year(company_name, year):\n",
    "    cypher = \"\"\"\n",
    "    MATCH (g:GroupCompany {name: $company_name})-[h:HAS_INVENTORY {year: $year}]->(i:InventoryType)\n",
    "    RETURN sum(h.amount) AS totalAmount\n",
    "    \"\"\"\n",
    "    params = {\n",
    "        \"company_name\": company_name,\n",
    "        \"year\": year\n",
    "    }\n",
    "    with driver.session() as session:\n",
    "        result = session.run(cypher, params)\n",
    "        record = result.single()\n",
    "        return record[\"totalAmount\"] if record else None\n",
    "\n",
    "# Example usage:s\n",
    "total = total_inventory_for_company_and_year(\"002-HO\", \"FY23\")\n",
    "print(f\"Total inventory for 002-HO in FY24: {total}\")\n"
   ]
  },
  {
   "cell_type": "code",
   "execution_count": null,
   "id": "86d6de75",
   "metadata": {},
   "outputs": [],
   "source": [
    "cypher = \"\"\"\n",
    "MATCH (g:GroupCompany)-[h:HAS_INVENTORY {year: 'FY24'}]->(i:InventoryType {name: 'Raw Material'})\n",
    "RETURN g.name AS company_name, h.amount AS raw_material_amount\n",
    "ORDER BY raw_material_amount DESC\n",
    "LIMIT 1\n",
    "\"\"\"\n",
    "\n",
    "with driver.session() as session:\n",
    "    result = session.run(cypher)\n",
    "    record = result.single()\n",
    "    if record:\n",
    "        print(f\"Group company with highest Raw Material in FY24: {record['company_name']} ({record['raw_material_amount']})\")\n",
    "    else:\n",
    "        print(\"No data found.\")\n"
   ]
  },
  {
   "cell_type": "code",
   "execution_count": null,
   "id": "6ce35b8b",
   "metadata": {},
   "outputs": [],
   "source": []
  }
 ],
 "metadata": {
  "kernelspec": {
   "display_name": "grapgrag-env",
   "language": "python",
   "name": "python3"
  },
  "language_info": {
   "codemirror_mode": {
    "name": "ipython",
    "version": 3
   },
   "file_extension": ".py",
   "mimetype": "text/x-python",
   "name": "python",
   "nbconvert_exporter": "python",
   "pygments_lexer": "ipython3",
   "version": "3.11.13"
  }
 },
 "nbformat": 4,
 "nbformat_minor": 5
}
